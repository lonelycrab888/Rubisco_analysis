{
 "cells": [
  {
   "cell_type": "code",
   "execution_count": 6,
   "id": "2b8f6172-8ca3-46bd-987b-3f2ca7fef236",
   "metadata": {
    "execution": {
     "iopub.execute_input": "2023-08-17T14:38:19.882178Z",
     "iopub.status.busy": "2023-08-17T14:38:19.881121Z",
     "iopub.status.idle": "2023-08-17T14:38:21.230125Z",
     "shell.execute_reply": "2023-08-17T14:38:21.229645Z",
     "shell.execute_reply.started": "2023-08-17T14:38:19.882139Z"
    },
    "tags": []
   },
   "outputs": [
    {
     "name": "stdout",
     "output_type": "stream",
     "text": [
      "['tomo109.tbl', 'tomo166.tbl', 'tomo181.tbl', 'tomo133.tbl', 'tomo61.tbl', 'tomo152.tbl', 'tomo102_1.tbl', 'tomo130.tbl', 'tomo161.tbl', 'tomo114.tbl', 'tomo121.tbl', 'tomo57.tbl', 'tomo76.tbl', 'tomo126_2.tbl', 'tomo166_1.tbl', 'tomo58.tbl', 'tomo80.tbl', 'tomo98.tbl', 'tomo112.tbl', 'tomo144.tbl', 'tomo150.tbl', 'tomo55.tbl', 'tomo167.tbl', 'tomo89.tbl', 'tomo123.tbl', 'tomo56.tbl', 'tomo62.tbl', 'tomo83.tbl', 'tomo151.tbl', 'tomo93.tbl', 'tomo133_1.tbl', 'tomo117_1.tbl', 'tomo120.tbl', 'tomo95.tbl', 'tomo146.tbl', 'tomo66.tbl', 'tomo125.tbl', 'tomo115.tbl', 'tomo140_2.tbl', 'tomo110.tbl', 'tomo81_1.tbl', 'tomo155.tbl', 'tomo182.tbl', 'tomo80_2.tbl', 'tomo81_2.tbl', 'tomo97.tbl', 'tomo96.tbl', 'tomo106.tbl', 'tomo156.tbl', 'tomo147.tbl', 'tomo159_2.tbl', 'tomo154.tbl', 'tomo134.tbl', 'tomo158.tbl', 'tomo177.tbl', 'tomo165.tbl', 'tomo166_2.tbl', 'tomo118.tbl', 'tomo159.tbl', 'tomo119.tbl', 'tomo126_1.tbl', 'tomo128.tbl', 'tomo94.tbl', 'tomo88.tbl', 'tomo135.tbl', 'tomo139.tbl', 'tomo117_2.tbl']\n",
      "数据已写入文件: /opt/user/hsj/V_Carbonylase/result/VS_result.txt\n"
     ]
    }
   ],
   "source": [
    "from calculate_V import *\n",
    "import os\n",
    "\n",
    "# 获取当前文件的绝对路径\n",
    "current_file_path = os.getcwd()\n",
    "folder_path = current_file_path+\"/surfacedata\"\n",
    "\n",
    "# 获取文件夹中的所有文件名\n",
    "file_names = os.listdir(folder_path)\n",
    "name = ['name']+file_names\n",
    "V1 = ['total_volume']\n",
    "V2 = ['Bounding Box Volume']\n",
    "V3 = ['Approximate Ellipsoid Volume']\n",
    "S1 = ['Surface Area']\n",
    "S2 = ['Approximate Ellipsoid Surface Area']\n",
    "\n",
    "\n",
    "# 打印文件名列表\n",
    "print(file_names)\n",
    "for filename in file_names:\n",
    "    total_volume, V_changfang, V_tuoqiu, S11, S12= calculate_V_S('surfacedata/'+filename)\n",
    "    V1.append(total_volume)\n",
    "    V2.append(V_changfang)\n",
    "    V3.append(V_tuoqiu)\n",
    "    S1.append(S11)\n",
    "    S2.append(S12)\n",
    "output_file_path = current_file_path+\"/result/VS_result.txt\"\n",
    "columns = [name, V1, V2, V3, S1, S2]\n",
    "# 打开文本文件进行写操作\n",
    "with open(output_file_path, 'w') as f:\n",
    "    # 逐行写入每个元素\n",
    "    for row in zip(*columns):\n",
    "        line = '\\t'.join(map(str, row))  # 使用制表符分隔每一列的元素\n",
    "        f.write(line + '\\n')  # 写入一行\n",
    "\n",
    "print(\"数据已写入文件:\", output_file_path)\n",
    "\n",
    "\n",
    "\n",
    "\n",
    "\n"
   ]
  }
 ],
 "metadata": {
  "kernelspec": {
   "display_name": "BERT",
   "language": "python",
   "name": "bert"
  },
  "language_info": {
   "codemirror_mode": {
    "name": "ipython",
    "version": 3
   },
   "file_extension": ".py",
   "mimetype": "text/x-python",
   "name": "python",
   "nbconvert_exporter": "python",
   "pygments_lexer": "ipython3",
   "version": "3.9.16"
  }
 },
 "nbformat": 4,
 "nbformat_minor": 5
}
